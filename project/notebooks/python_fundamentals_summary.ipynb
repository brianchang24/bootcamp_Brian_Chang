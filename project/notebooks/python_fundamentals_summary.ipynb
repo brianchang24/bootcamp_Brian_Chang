{
 "cells": [
  {
   "cell_type": "code",
   "execution_count": 1,
   "id": "581b05d2",
   "metadata": {},
   "outputs": [
    {
     "name": "stdout",
     "output_type": "stream",
     "text": [
      "46.5 ms ± 74.1 μs per loop (mean ± std. dev. of 7 runs, 10 loops each)\n",
      "695 μs ± 14.7 μs per loop (mean ± std. dev. of 7 runs, 1,000 loops each)\n",
      "  category  value\n",
      "0        A     10\n",
      "1        A     12\n",
      "2        B     20\n",
      "3        B     22\n",
      "4        C     30\n",
      "          count  mean       std  min  max\n",
      "category                                 \n",
      "A             2  11.0  1.414214   10   12\n",
      "B             2  21.0  1.414214   20   22\n",
      "C             2  32.5  3.535534   30   35\n"
     ]
    }
   ],
   "source": [
    "import numpy as np\n",
    "import pandas as pd\n",
    "\n",
    "import sys, os\n",
    "sys.path.append(os.path.abspath(\"../src\"))\n",
    "\n",
    "big_array = np.arange(1_000_000)\n",
    "%timeit [x * 2 for x in big_array]\n",
    "%timeit big_array * 2\n",
    "\n",
    "df = pd.DataFrame({\n",
    "    \"category\": [\"A\", \"A\", \"B\", \"B\", \"C\", \"C\"],\n",
    "    \"value\": [10, 12, 20, 22, 30, 35]\n",
    "})\n",
    "print(df.head())\n",
    "\n",
    "from utils import get_summary_stats\n",
    "summary = get_summary_stats(df, group_col=\"category\", value_col=\"value\")\n",
    "print(summary)\n"
   ]
  }
 ],
 "metadata": {
  "kernelspec": {
   "display_name": "earnings-sentiment",
   "language": "python",
   "name": "python3"
  },
  "language_info": {
   "codemirror_mode": {
    "name": "ipython",
    "version": 3
   },
   "file_extension": ".py",
   "mimetype": "text/x-python",
   "name": "python",
   "nbconvert_exporter": "python",
   "pygments_lexer": "ipython3",
   "version": "3.11.13"
  }
 },
 "nbformat": 4,
 "nbformat_minor": 5
}
