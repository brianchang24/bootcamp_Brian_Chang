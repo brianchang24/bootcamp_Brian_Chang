{
 "cells": [
  {
   "cell_type": "code",
   "execution_count": 2,
   "id": "9fef3763",
   "metadata": {},
   "outputs": [
    {
     "name": "stdout",
     "output_type": "stream",
     "text": [
      "RAW_DIR: /Users/brian/bootcamp_Brian_Chang/project/data/raw\n",
      "PROC_DIR: /Users/brian/bootcamp_Brian_Chang/project/data/processed\n"
     ]
    }
   ],
   "source": [
    "from pathlib import Path\n",
    "import os, datetime as dt\n",
    "import pandas as pd\n",
    "from dotenv import load_dotenv\n",
    "\n",
    "\n",
    "# Project root is one level up from this notebook\n",
    "PROJECT_ROOT = Path(\"..\").resolve()\n",
    "\n",
    "# Load .env from project root\n",
    "load_dotenv(PROJECT_ROOT / \".env\")\n",
    "\n",
    "# Read dirs from env; they are relative to project root\n",
    "RAW_DIR  = PROJECT_ROOT / os.getenv(\"DATA_DIR_RAW\", \"data/raw\")\n",
    "PROC_DIR = PROJECT_ROOT / os.getenv(\"DATA_DIR_PROCESSED\", \"data/processed\")\n",
    "\n",
    "RAW_DIR.mkdir(parents=True, exist_ok=True)\n",
    "PROC_DIR.mkdir(parents=True, exist_ok=True)\n",
    "\n",
    "def ts() -> str:\n",
    "    return dt.datetime.now().strftime(\"%Y%m%d-%H%M%S\")\n",
    "\n",
    "print(\"RAW_DIR:\", RAW_DIR)\n",
    "print(\"PROC_DIR:\", PROC_DIR)\n"
   ]
  },
  {
   "cell_type": "code",
   "execution_count": 3,
   "id": "915d968b",
   "metadata": {},
   "outputs": [
    {
     "name": "stdout",
     "output_type": "stream",
     "text": [
      "Using latest raw file: api_yfinance_AAPL_20250817-2321.csv\n",
      "<class 'pandas.core.frame.DataFrame'>\n",
      "RangeIndex: 250 entries, 0 to 249\n",
      "Data columns (total 8 columns):\n",
      " #   Column        Non-Null Count  Dtype  \n",
      "---  ------        --------------  -----  \n",
      " 0   date          250 non-null    object \n",
      " 1   open          250 non-null    float64\n",
      " 2   high          250 non-null    float64\n",
      " 3   low           250 non-null    float64\n",
      " 4   close         250 non-null    float64\n",
      " 5   volume        250 non-null    int64  \n",
      " 6   Dividends     250 non-null    float64\n",
      " 7   Stock Splits  250 non-null    float64\n",
      "dtypes: float64(6), int64(1), object(1)\n",
      "memory usage: 15.8+ KB\n"
     ]
    },
    {
     "data": {
      "text/html": [
       "<div>\n",
       "<style scoped>\n",
       "    .dataframe tbody tr th:only-of-type {\n",
       "        vertical-align: middle;\n",
       "    }\n",
       "\n",
       "    .dataframe tbody tr th {\n",
       "        vertical-align: top;\n",
       "    }\n",
       "\n",
       "    .dataframe thead th {\n",
       "        text-align: right;\n",
       "    }\n",
       "</style>\n",
       "<table border=\"1\" class=\"dataframe\">\n",
       "  <thead>\n",
       "    <tr style=\"text-align: right;\">\n",
       "      <th></th>\n",
       "      <th>date</th>\n",
       "      <th>open</th>\n",
       "      <th>high</th>\n",
       "      <th>low</th>\n",
       "      <th>close</th>\n",
       "      <th>volume</th>\n",
       "      <th>Dividends</th>\n",
       "      <th>Stock Splits</th>\n",
       "    </tr>\n",
       "  </thead>\n",
       "  <tbody>\n",
       "    <tr>\n",
       "      <th>0</th>\n",
       "      <td>2024-08-16 00:00:00-04:00</td>\n",
       "      <td>222.882700</td>\n",
       "      <td>225.779224</td>\n",
       "      <td>222.613947</td>\n",
       "      <td>225.002838</td>\n",
       "      <td>44340200</td>\n",
       "      <td>0.0</td>\n",
       "      <td>0.0</td>\n",
       "    </tr>\n",
       "    <tr>\n",
       "      <th>1</th>\n",
       "      <td>2024-08-19 00:00:00-04:00</td>\n",
       "      <td>224.674371</td>\n",
       "      <td>224.943125</td>\n",
       "      <td>222.006778</td>\n",
       "      <td>224.843582</td>\n",
       "      <td>40687800</td>\n",
       "      <td>0.0</td>\n",
       "      <td>0.0</td>\n",
       "    </tr>\n",
       "    <tr>\n",
       "      <th>2</th>\n",
       "      <td>2024-08-20 00:00:00-04:00</td>\n",
       "      <td>224.724146</td>\n",
       "      <td>226.117655</td>\n",
       "      <td>224.405621</td>\n",
       "      <td>225.460709</td>\n",
       "      <td>30299000</td>\n",
       "      <td>0.0</td>\n",
       "      <td>0.0</td>\n",
       "    </tr>\n",
       "    <tr>\n",
       "      <th>3</th>\n",
       "      <td>2024-08-21 00:00:00-04:00</td>\n",
       "      <td>225.470651</td>\n",
       "      <td>226.923879</td>\n",
       "      <td>224.007459</td>\n",
       "      <td>225.351196</td>\n",
       "      <td>34765500</td>\n",
       "      <td>0.0</td>\n",
       "      <td>0.0</td>\n",
       "    </tr>\n",
       "    <tr>\n",
       "      <th>4</th>\n",
       "      <td>2024-08-22 00:00:00-04:00</td>\n",
       "      <td>226.734776</td>\n",
       "      <td>227.282232</td>\n",
       "      <td>222.862797</td>\n",
       "      <td>223.489883</td>\n",
       "      <td>43695300</td>\n",
       "      <td>0.0</td>\n",
       "      <td>0.0</td>\n",
       "    </tr>\n",
       "  </tbody>\n",
       "</table>\n",
       "</div>"
      ],
      "text/plain": [
       "                        date        open        high         low       close  \\\n",
       "0  2024-08-16 00:00:00-04:00  222.882700  225.779224  222.613947  225.002838   \n",
       "1  2024-08-19 00:00:00-04:00  224.674371  224.943125  222.006778  224.843582   \n",
       "2  2024-08-20 00:00:00-04:00  224.724146  226.117655  224.405621  225.460709   \n",
       "3  2024-08-21 00:00:00-04:00  225.470651  226.923879  224.007459  225.351196   \n",
       "4  2024-08-22 00:00:00-04:00  226.734776  227.282232  222.862797  223.489883   \n",
       "\n",
       "     volume  Dividends  Stock Splits  \n",
       "0  44340200        0.0           0.0  \n",
       "1  40687800        0.0           0.0  \n",
       "2  30299000        0.0           0.0  \n",
       "3  34765500        0.0           0.0  \n",
       "4  43695300        0.0           0.0  "
      ]
     },
     "execution_count": 3,
     "metadata": {},
     "output_type": "execute_result"
    }
   ],
   "source": [
    "from typing import Optional, List\n",
    "\n",
    "def latest_raw(pattern: str = \"api_yfinance_*.csv\") -> Optional[Path]:\n",
    "    files: List[Path] = sorted(RAW_DIR.glob(pattern))\n",
    "    return files[-1] if files else None\n",
    "\n",
    "latest = latest_raw()\n",
    "if latest and latest.exists():\n",
    "    print(\"Using latest raw file:\", latest.name)\n",
    "    df = pd.read_csv(latest, parse_dates=[\"date\"])\n",
    "else:\n",
    "    print(\"No Stage 04 raw found; using a small sample DataFrame.\")\n",
    "    import numpy as np\n",
    "    dates = pd.date_range(\"2024-01-01\", periods=10, freq=\"D\")\n",
    "    df = pd.DataFrame({\n",
    "        \"date\": dates,\n",
    "        \"ticker\": [\"AAPL\"]*10,\n",
    "        \"price\": 150 + np.random.randn(10).cumsum()\n",
    "    })\n",
    "\n",
    "df.info()\n",
    "df.head()\n"
   ]
  },
  {
   "cell_type": "code",
   "execution_count": 4,
   "id": "4c42bbea",
   "metadata": {},
   "outputs": [
    {
     "name": "stdout",
     "output_type": "stream",
     "text": [
      "Saved CSV → /Users/brian/bootcamp_Brian_Chang/project/data/raw/storage_demo_20250818-185020.csv\n",
      "Saved Parquet → /Users/brian/bootcamp_Brian_Chang/project/data/processed/storage_demo_20250818-185020.parquet\n"
     ]
    }
   ],
   "source": [
    "# Save CSV in RAW\n",
    "csv_path = RAW_DIR / f\"storage_demo_{ts()}.csv\"\n",
    "df.to_csv(csv_path, index=False)\n",
    "print(\"Saved CSV →\", csv_path)\n",
    "\n",
    "# Save Parquet in PROCESSED\n",
    "parq_path = PROC_DIR / f\"storage_demo_{ts()}.parquet\"\n",
    "try:\n",
    "    df.to_parquet(parq_path)  # requires pyarrow or fastparquet\n",
    "    print(\"Saved Parquet →\", parq_path)\n",
    "except Exception as e:\n",
    "    print(\"Parquet save failed (engine missing?).\", e)\n"
   ]
  },
  {
   "cell_type": "code",
   "execution_count": 5,
   "id": "1a681287",
   "metadata": {},
   "outputs": [
    {
     "name": "stdout",
     "output_type": "stream",
     "text": [
      "CSV validation: {'shape_equal': True, 'cols_present': False, 'date_is_datetime': False, 'open_is_numeric': True, 'high_is_numeric': True, 'low_is_numeric': True, 'close_is_numeric': True, 'volume_is_numeric': True}\n",
      "Parquet validation: {'shape_equal': True, 'cols_present': False, 'date_is_datetime': True, 'open_is_numeric': True, 'high_is_numeric': True, 'low_is_numeric': True, 'close_is_numeric': True, 'volume_is_numeric': True}\n"
     ]
    }
   ],
   "source": [
    "from pandas.api.types import is_numeric_dtype, is_datetime64_any_dtype\n",
    "\n",
    "def validate_loaded(original: pd.DataFrame, reloaded: pd.DataFrame, cols=(\"date\",\"ticker\")):\n",
    "    checks = {\n",
    "        \"shape_equal\": original.shape == reloaded.shape,\n",
    "        \"cols_present\": all(c in reloaded.columns for c in cols),\n",
    "    }\n",
    "    if \"date\" in reloaded.columns:\n",
    "        checks[\"date_is_datetime\"] = is_datetime64_any_dtype(reloaded[\"date\"])\n",
    "    # check any numeric columns you care about:\n",
    "    for col in (\"price\",\"open\",\"high\",\"low\",\"close\",\"volume\"):\n",
    "        if col in reloaded.columns:\n",
    "            checks[f\"{col}_is_numeric\"] = is_numeric_dtype(reloaded[col])\n",
    "    return checks\n",
    "\n",
    "# reload CSV (parse 'date' if present)\n",
    "csv_cols = pd.read_csv(csv_path, nrows=0).columns\n",
    "parse = [\"date\"] if \"date\" in csv_cols else None\n",
    "df_csv = pd.read_csv(csv_path, parse_dates=parse)\n",
    "print(\"CSV validation:\", validate_loaded(df, df_csv))\n",
    "\n",
    "# reload Parquet (if created)\n",
    "if parq_path.exists():\n",
    "    try:\n",
    "        df_parq = pd.read_parquet(parq_path)\n",
    "        print(\"Parquet validation:\", validate_loaded(df, df_parq))\n",
    "    except Exception as e:\n",
    "        print(\"Parquet read failed:\", e)\n",
    "else:\n",
    "    print(\"Parquet file not present (skipped earlier).\")\n"
   ]
  },
  {
   "cell_type": "code",
   "execution_count": 6,
   "id": "ada77170",
   "metadata": {},
   "outputs": [
    {
     "name": "stdout",
     "output_type": "stream",
     "text": [
      "Reloaded CSV via util: (250, 8)\n",
      "Reloaded Parquet via util: (250, 8)\n"
     ]
    }
   ],
   "source": [
    "import sys\n",
    "sys.path.append(str(PROJECT_ROOT / \"src\"))\n",
    "\n",
    "from utils_storage import write_df, read_df\n",
    "\n",
    "# demo\n",
    "csv2 = RAW_DIR  / f\"storage_util_{ts()}.csv\"\n",
    "pq2  = PROC_DIR / f\"storage_util_{ts()}.parquet\"\n",
    "\n",
    "write_df(df, csv2)\n",
    "print(\"Reloaded CSV via util:\", read_df(csv2).shape)\n",
    "\n",
    "try:\n",
    "    write_df(df, pq2)\n",
    "    print(\"Reloaded Parquet via util:\", read_df(pq2).shape)\n",
    "except RuntimeError as e:\n",
    "    print(\"Parquet util demo skipped:\", e)\n"
   ]
  }
 ],
 "metadata": {
  "kernelspec": {
   "display_name": "earnings-sentiment",
   "language": "python",
   "name": "python3"
  },
  "language_info": {
   "codemirror_mode": {
    "name": "ipython",
    "version": 3
   },
   "file_extension": ".py",
   "mimetype": "text/x-python",
   "name": "python",
   "nbconvert_exporter": "python",
   "pygments_lexer": "ipython3",
   "version": "3.11.13"
  }
 },
 "nbformat": 4,
 "nbformat_minor": 5
}
