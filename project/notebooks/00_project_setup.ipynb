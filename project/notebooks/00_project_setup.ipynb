{
 "cells": [
  {
   "cell_type": "markdown",
   "source": ["# Environment & Config Check"]
  },
  {
   "cell_type": "code",
   "source": [
     "from src.config import load_env, get_key, get_data_dir\\n",
     "import numpy as np, pandas as pd, yfinance as yf\\n",
     "\\n",
     "load_env()\\n",
     "print('API_KEY present:', get_key('API_KEY') is not None)\\n",
     "print('DATA_DIR:', get_data_dir())\\n",
     "\\n",
     "# NumPy demo\\n",
     "arr = np.array([1,2,3])\\n",
     "print('Array sum:', arr.sum())\\n",
     "\\n",
     "# Finance demo (pull 5 days of AAPL prices)\\n",
     "data = yf.download('AAPL', period='5d')\\n",
     "print(data.tail())"
   ]
  }
 ],
 "metadata": {
   "kernelspec": {
     "display_name": "Python (earnings-sentiment)",
     "name": "earnings-sentiment",
     "language": "python"
   }
 },
 "nbformat": 4,
 "nbformat_minor": 5
}
