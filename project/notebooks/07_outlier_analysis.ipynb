{
 "cells": [
  {
   "cell_type": "code",
   "execution_count": 1,
   "id": "1990f977",
   "metadata": {},
   "outputs": [
    {
     "data": {
      "text/plain": [
       "(PosixPath('/Users/brian/bootcamp_Brian_Chang/project/data/raw'),\n",
       " PosixPath('/Users/brian/bootcamp_Brian_Chang/project/data/processed'))"
      ]
     },
     "execution_count": 1,
     "metadata": {},
     "output_type": "execute_result"
    }
   ],
   "source": [
    "# Stage 7 — Outlier Analysis (Project)\n",
    "import os, sys, numpy as np, pandas as pd\n",
    "from pathlib import Path\n",
    "from datetime import datetime\n",
    "import matplotlib.pyplot as plt\n",
    "from dotenv import load_dotenv\n",
    "\n",
    "# Make ../src importable\n",
    "PROJECT_ROOT = Path(\"..\").resolve()\n",
    "sys.path.append(str(PROJECT_ROOT / \"src\"))\n",
    "\n",
    "RAW  = PROJECT_ROOT / \"data\" / \"raw\"\n",
    "PROC = PROJECT_ROOT / \"data\" / \"processed\"\n",
    "PROC.mkdir(parents=True, exist_ok=True)\n",
    "\n",
    "RAW, PROC\n"
   ]
  },
  {
   "cell_type": "code",
   "execution_count": 2,
   "id": "46e02662",
   "metadata": {},
   "outputs": [
    {
     "name": "stdout",
     "output_type": "stream",
     "text": [
      "/Users/brian/bootcamp_Brian_Chang/project/data/processed/prices_preprocessed_20250820-120204.csv\n",
      "Loaded: prices_preprocessed_20250820-120204.csv rows: 250\n"
     ]
    },
    {
     "data": {
      "text/html": [
       "<div>\n",
       "<style scoped>\n",
       "    .dataframe tbody tr th:only-of-type {\n",
       "        vertical-align: middle;\n",
       "    }\n",
       "\n",
       "    .dataframe tbody tr th {\n",
       "        vertical-align: top;\n",
       "    }\n",
       "\n",
       "    .dataframe thead th {\n",
       "        text-align: right;\n",
       "    }\n",
       "</style>\n",
       "<table border=\"1\" class=\"dataframe\">\n",
       "  <thead>\n",
       "    <tr style=\"text-align: right;\">\n",
       "      <th></th>\n",
       "      <th>date</th>\n",
       "      <th>open</th>\n",
       "      <th>high</th>\n",
       "      <th>low</th>\n",
       "      <th>close</th>\n",
       "      <th>volume</th>\n",
       "      <th>Dividends</th>\n",
       "      <th>Stock Splits</th>\n",
       "      <th>ret_1d</th>\n",
       "      <th>ret_1d_z</th>\n",
       "    </tr>\n",
       "  </thead>\n",
       "  <tbody>\n",
       "    <tr>\n",
       "      <th>0</th>\n",
       "      <td>2024-08-16 00:00:00-04:00</td>\n",
       "      <td>222.882700</td>\n",
       "      <td>225.779224</td>\n",
       "      <td>222.613947</td>\n",
       "      <td>225.002838</td>\n",
       "      <td>44340200</td>\n",
       "      <td>0.0</td>\n",
       "      <td>0.0</td>\n",
       "      <td>NaN</td>\n",
       "      <td>NaN</td>\n",
       "    </tr>\n",
       "    <tr>\n",
       "      <th>1</th>\n",
       "      <td>2024-08-19 00:00:00-04:00</td>\n",
       "      <td>224.674371</td>\n",
       "      <td>224.943125</td>\n",
       "      <td>222.006778</td>\n",
       "      <td>224.843582</td>\n",
       "      <td>40687800</td>\n",
       "      <td>0.0</td>\n",
       "      <td>0.0</td>\n",
       "      <td>-0.070780</td>\n",
       "      <td>-0.050741</td>\n",
       "    </tr>\n",
       "    <tr>\n",
       "      <th>2</th>\n",
       "      <td>2024-08-20 00:00:00-04:00</td>\n",
       "      <td>224.724146</td>\n",
       "      <td>226.117655</td>\n",
       "      <td>224.405621</td>\n",
       "      <td>225.460709</td>\n",
       "      <td>30299000</td>\n",
       "      <td>0.0</td>\n",
       "      <td>0.0</td>\n",
       "      <td>0.274469</td>\n",
       "      <td>0.120104</td>\n",
       "    </tr>\n",
       "    <tr>\n",
       "      <th>3</th>\n",
       "      <td>2024-08-21 00:00:00-04:00</td>\n",
       "      <td>225.470651</td>\n",
       "      <td>226.923879</td>\n",
       "      <td>224.007459</td>\n",
       "      <td>225.351196</td>\n",
       "      <td>34765500</td>\n",
       "      <td>0.0</td>\n",
       "      <td>0.0</td>\n",
       "      <td>-0.048573</td>\n",
       "      <td>-0.039752</td>\n",
       "    </tr>\n",
       "    <tr>\n",
       "      <th>4</th>\n",
       "      <td>2024-08-22 00:00:00-04:00</td>\n",
       "      <td>226.734776</td>\n",
       "      <td>227.282232</td>\n",
       "      <td>222.862797</td>\n",
       "      <td>223.489883</td>\n",
       "      <td>43695300</td>\n",
       "      <td>0.0</td>\n",
       "      <td>0.0</td>\n",
       "      <td>-0.825961</td>\n",
       "      <td>-0.424439</td>\n",
       "    </tr>\n",
       "  </tbody>\n",
       "</table>\n",
       "</div>"
      ],
      "text/plain": [
       "                        date        open        high         low       close  \\\n",
       "0  2024-08-16 00:00:00-04:00  222.882700  225.779224  222.613947  225.002838   \n",
       "1  2024-08-19 00:00:00-04:00  224.674371  224.943125  222.006778  224.843582   \n",
       "2  2024-08-20 00:00:00-04:00  224.724146  226.117655  224.405621  225.460709   \n",
       "3  2024-08-21 00:00:00-04:00  225.470651  226.923879  224.007459  225.351196   \n",
       "4  2024-08-22 00:00:00-04:00  226.734776  227.282232  222.862797  223.489883   \n",
       "\n",
       "     volume  Dividends  Stock Splits    ret_1d  ret_1d_z  \n",
       "0  44340200        0.0           0.0       NaN       NaN  \n",
       "1  40687800        0.0           0.0 -0.070780 -0.050741  \n",
       "2  30299000        0.0           0.0  0.274469  0.120104  \n",
       "3  34765500        0.0           0.0 -0.048573 -0.039752  \n",
       "4  43695300        0.0           0.0 -0.825961 -0.424439  "
      ]
     },
     "execution_count": 2,
     "metadata": {},
     "output_type": "execute_result"
    }
   ],
   "source": [
    "# Load the latest preprocessed prices file saved in Stage 6\n",
    "def latest(pattern: str) -> Path | None:\n",
    "    files = sorted(PROC.glob(pattern))\n",
    "    return files[-1] if files else None\n",
    "path = latest(\"prices_*.csv\")\n",
    "print(path)\n",
    "df = pd.read_csv(path)\n",
    "print(\"Loaded:\", path.name, \"rows:\", len(df))\n",
    "df.head()\n"
   ]
  },
  {
   "cell_type": "code",
   "execution_count": null,
   "id": "8b06b01f",
   "metadata": {},
   "outputs": [
    {
     "name": "stdout",
     "output_type": "stream",
     "text": [
      "Flag rates (fraction of rows):\n",
      "outlier_iqr    0.084\n",
      "outlier_z      0.016\n",
      "Name: fraction_flagged, dtype: float64\n",
      "\n",
      "Overlap counts:\n",
      "outlier_z    False  True \n",
      "outlier_iqr              \n",
      "False          229      0\n",
      "True            17      4\n"
     ]
    }
   ],
   "source": [
    "import sys, os\n",
    "sys.path.append(os.path.abspath(\"..\"))  # allows `from src...` when running from notebooks/\n",
    "\n",
    "from src.outliers import detect_outliers_iqr, detect_outliers_zscore\n",
    "\n",
    "target = \"ret_1d\"  # we only analyze raw daily returns here, because we have done normalization in Stage 6\n",
    "assert target in df.columns, f\"'{target}' not found in df.columns\"\n",
    "\n",
    "# Flag outliers (you can pick either method; we’ll compute both and use IQR as default)\n",
    "df[\"outlier_iqr\"] = detect_outliers_iqr(df[target], k=1.5)\n",
    "df[\"outlier_z\"]   = detect_outliers_zscore(df[target], threshold=3.0)\n",
    "\n",
    "print(\"Flag rates (fraction of rows):\")\n",
    "print(df[[\"outlier_iqr\",\"outlier_z\"]].mean().rename(\"fraction_flagged\"))\n",
    "\n",
    "print(\"\\nOverlap counts:\")\n",
    "print(pd.crosstab(df['outlier_iqr'], df['outlier_z']))\n"
   ]
  },
  {
   "cell_type": "code",
   "execution_count": 4,
   "id": "c12a4206",
   "metadata": {},
   "outputs": [
    {
     "data": {
      "text/html": [
       "<div>\n",
       "<style scoped>\n",
       "    .dataframe tbody tr th:only-of-type {\n",
       "        vertical-align: middle;\n",
       "    }\n",
       "\n",
       "    .dataframe tbody tr th {\n",
       "        vertical-align: top;\n",
       "    }\n",
       "\n",
       "    .dataframe thead th {\n",
       "        text-align: right;\n",
       "    }\n",
       "</style>\n",
       "<table border=\"1\" class=\"dataframe\">\n",
       "  <thead>\n",
       "    <tr style=\"text-align: right;\">\n",
       "      <th></th>\n",
       "      <th>mean</th>\n",
       "      <th>median</th>\n",
       "      <th>std</th>\n",
       "    </tr>\n",
       "  </thead>\n",
       "  <tbody>\n",
       "    <tr>\n",
       "      <th>all</th>\n",
       "      <td>0.031760</td>\n",
       "      <td>0.114025</td>\n",
       "      <td>2.024903</td>\n",
       "    </tr>\n",
       "    <tr>\n",
       "      <th>filtered_iqr</th>\n",
       "      <td>0.092742</td>\n",
       "      <td>0.118700</td>\n",
       "      <td>1.214030</td>\n",
       "    </tr>\n",
       "    <tr>\n",
       "      <th>filtered_z</th>\n",
       "      <td>0.011425</td>\n",
       "      <td>0.114025</td>\n",
       "      <td>1.572850</td>\n",
       "    </tr>\n",
       "  </tbody>\n",
       "</table>\n",
       "</div>"
      ],
      "text/plain": [
       "                  mean    median       std\n",
       "all           0.031760  0.114025  2.024903\n",
       "filtered_iqr  0.092742  0.118700  1.214030\n",
       "filtered_z    0.011425  0.114025  1.572850"
      ]
     },
     "execution_count": 4,
     "metadata": {},
     "output_type": "execute_result"
    }
   ],
   "source": [
    "def summarize(series: pd.Series) -> pd.Series:\n",
    "    s = pd.to_numeric(series, errors=\"coerce\")\n",
    "    return pd.Series({\n",
    "        \"mean\":   s.mean(),\n",
    "        \"median\": s.median(),\n",
    "        \"std\":    s.std()\n",
    "    })\n",
    "\n",
    "# Compare ALL vs IQR-filtered (and Z-filtered just for reference)\n",
    "summ_all = summarize(df[target])\n",
    "summ_iqr = summarize(df.loc[~df[\"outlier_iqr\"], target])\n",
    "summ_z   = summarize(df.loc[~df[\"outlier_z\"],   target])\n",
    "\n",
    "comp = pd.concat(\n",
    "    {\"all\": summ_all, \"filtered_iqr\": summ_iqr, \"filtered_z\": summ_z},\n",
    "    axis=1\n",
    ")\n",
    "comp.T  # methods as rows, metrics as columns\n"
   ]
  },
  {
   "cell_type": "code",
   "execution_count": 5,
   "id": "5fc3d25c",
   "metadata": {},
   "outputs": [
    {
     "data": {
      "image/png": "[encoded data removed]",
      "text/plain": [
       "<Figure size 900x600 with 1 Axes>"
      ]
     },
     "metadata": {},
     "output_type": "display_data"
    },
    {
     "data": {
      "image/png": "[encoded data removed]",
      "text/plain": [
       "<Figure size 900x600 with 1 Axes>"
      ]
     },
     "metadata": {},
     "output_type": "display_data"
    }
   ],
   "source": [
    "vals_all = pd.to_numeric(df[target], errors=\"coerce\").dropna()\n",
    "vals_iqr = pd.to_numeric(df.loc[~df[\"outlier_iqr\"], target], errors=\"coerce\").dropna()\n",
    "vals_z   = pd.to_numeric(df.loc[~df[\"outlier_z\"],   target], errors=\"coerce\").dropna()\n",
    "\n",
    "bins = np.linspace(vals_all.min(), vals_all.max(), 60)\n",
    "\n",
    "plt.figure(figsize=(9,6))\n",
    "plt.hist(vals_all, bins=bins, alpha=0.4, density=True, label=\"All\")\n",
    "plt.hist(vals_iqr, bins=bins, alpha=0.4, density=True, label=\"IQR-filtered\")\n",
    "plt.title(f\"{target}: Distribution (All vs IQR)\")\n",
    "plt.legend()\n",
    "plt.show()\n",
    "\n",
    "plt.figure(figsize=(9,6))\n",
    "plt.hist(vals_all, bins=bins, alpha=0.4, density=True, label=\"All\")\n",
    "plt.hist(vals_z,   bins=bins, alpha=0.4, density=True, label=\"Z-score-filtered\")\n",
    "plt.title(f\"{target}: Distribution (All vs Z-score)\")\n",
    "plt.legend()\n",
    "plt.show()\n"
   ]
  },
  {
   "cell_type": "code",
   "execution_count": 6,
   "id": "b05943ce",
   "metadata": {},
   "outputs": [
    {
     "name": "stderr",
     "output_type": "stream",
     "text": [
      "/var/folders/hc/lx21f3657gz88_xv7kjd578w0000gn/T/ipykernel_59288/1652915966.py:2: MatplotlibDeprecationWarning: The 'labels' parameter of boxplot() has been renamed 'tick_labels' since Matplotlib 3.9; support for the old name will be dropped in 3.11.\n",
      "  plt.boxplot([vals_all, vals_iqr, vals_z], labels=[\"All\", \"IQR-filtered\", \"Z-score-filtered\"])\n"
     ]
    },
    {
     "data": {
      "image/png": "[encoded data removed]",
      "text/plain": [
       "<Figure size 700x600 with 1 Axes>"
      ]
     },
     "metadata": {},
     "output_type": "display_data"
    }
   ],
   "source": [
    "plt.figure(figsize=(7,6))\n",
    "plt.boxplot([vals_all, vals_iqr, vals_z], labels=[\"All\", \"IQR-filtered\", \"Z-score-filtered\"])\n",
    "plt.title(f\"{target}: Boxplot Comparison\")\n",
    "plt.show()\n"
   ]
  }
 ],
 "metadata": {
  "kernelspec": {
   "display_name": "earnings-sentiment",
   "language": "python",
   "name": "python3"
  },
  "language_info": {
   "codemirror_mode": {
    "name": "ipython",
    "version": 3
   },
   "file_extension": ".py",
   "mimetype": "text/x-python",
   "name": "python",
   "nbconvert_exporter": "python",
   "pygments_lexer": "ipython3",
   "version": "3.11.13"
  }
 },
 "nbformat": 4,
 "nbformat_minor": 5
}
