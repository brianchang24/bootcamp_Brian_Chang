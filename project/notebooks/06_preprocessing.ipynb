{
 "cells": [
  {
   "cell_type": "code",
   "execution_count": 6,
   "id": "e53f94d1",
   "metadata": {},
   "outputs": [
    {
     "data": {
      "text/plain": [
       "(PosixPath('/Users/brian/bootcamp_Brian_Chang/project/data/raw'),\n",
       " PosixPath('/Users/brian/bootcamp_Brian_Chang/project/data/processed'))"
      ]
     },
     "execution_count": 6,
     "metadata": {},
     "output_type": "execute_result"
    }
   ],
   "source": [
    "from pathlib import Path\n",
    "import sys, os\n",
    "import pandas as pd\n",
    "\n",
    "PROJECT_ROOT = Path(\"..\").resolve()\n",
    "sys.path.append(str(PROJECT_ROOT / \"src\"))  # so we can `from cleaning import ...`\n",
    "\n",
    "from cleaning import (\n",
    "    sort_and_cast_ohlcv,\n",
    "    ffill_ohlcv_by_date,\n",
    "    add_returns,\n",
    "    winsorize_zscores,\n",
    ")\n",
    "\n",
    "RAW  = PROJECT_ROOT / \"data\" / \"raw\"\n",
    "PROC = PROJECT_ROOT / \"data\" / \"processed\"\n",
    "PROC.mkdir(parents=True, exist_ok=True)\n",
    "\n",
    "RAW, PROC\n"
   ]
  },
  {
   "cell_type": "code",
   "execution_count": 7,
   "id": "4bed0cb7",
   "metadata": {},
   "outputs": [
    {
     "data": {
      "text/plain": [
       "PosixPath('/Users/brian/bootcamp_Brian_Chang/project/data/raw/api_yfinance_AAPL_20250817-2321.csv')"
      ]
     },
     "execution_count": 7,
     "metadata": {},
     "output_type": "execute_result"
    }
   ],
   "source": [
    "def latest(pattern: str) -> Path | None:\n",
    "    files = sorted(RAW.glob(pattern))\n",
    "    return files[-1] if files else None\n",
    "\n",
    "raw_prices = latest(\"api_yfinance_*.csv\")\n",
    "raw_prices\n"
   ]
  },
  {
   "cell_type": "code",
   "execution_count": 8,
   "id": "8f1a8e95",
   "metadata": {},
   "outputs": [
    {
     "data": {
      "text/plain": [
       "(                        date        open        high         low       close  \\\n",
       " 0  2024-08-16 00:00:00-04:00  222.882700  225.779224  222.613947  225.002838   \n",
       " 1  2024-08-19 00:00:00-04:00  224.674371  224.943125  222.006778  224.843582   \n",
       " 2  2024-08-20 00:00:00-04:00  224.724146  226.117655  224.405621  225.460709   \n",
       " 3  2024-08-21 00:00:00-04:00  225.470651  226.923879  224.007459  225.351196   \n",
       " 4  2024-08-22 00:00:00-04:00  226.734776  227.282232  222.862797  223.489883   \n",
       " \n",
       "      volume  Dividends  Stock Splits  \n",
       " 0  44340200        0.0           0.0  \n",
       " 1  40687800        0.0           0.0  \n",
       " 2  30299000        0.0           0.0  \n",
       " 3  34765500        0.0           0.0  \n",
       " 4  43695300        0.0           0.0  ,\n",
       " (250, 8),\n",
       " date            0\n",
       " open            0\n",
       " high            0\n",
       " low             0\n",
       " close           0\n",
       " volume          0\n",
       " Dividends       0\n",
       " Stock Splits    0\n",
       " dtype: int64)"
      ]
     },
     "execution_count": 8,
     "metadata": {},
     "output_type": "execute_result"
    }
   ],
   "source": [
    "df = pd.read_csv(raw_prices)\n",
    "df.head(), df.shape, df.isna().sum()\n"
   ]
  },
  {
   "cell_type": "code",
   "execution_count": 10,
   "id": "d7b63781",
   "metadata": {},
   "outputs": [
    {
     "name": "stderr",
     "output_type": "stream",
     "text": [
      "/Users/brian/bootcamp_Brian_Chang/project/src/cleaning.py:88: FutureWarning: In a future version of pandas, parsing datetimes with mixed time zones will raise an error unless `utc=True`. Please specify `utc=True` to opt in to the new behaviour and silence this warning. To create a `Series` with mixed offsets and `object` dtype, please use `apply` and `datetime.datetime.strptime`\n",
      "  dt = pd.to_datetime(s, format=\"%Y-%m-%d %H:%M:%S%z\", errors=\"coerce\")\n",
      "/Users/brian/bootcamp_Brian_Chang/project/src/cleaning.py:89: FutureWarning: In a future version of pandas, parsing datetimes with mixed time zones will raise an error unless `utc=True`. Please specify `utc=True` to opt in to the new behaviour and silence this warning. To create a `Series` with mixed offsets and `object` dtype, please use `apply` and `datetime.datetime.strptime`\n",
      "  dt = dt.fillna(pd.to_datetime(s, errors=\"coerce\", utc=False))\n"
     ]
    },
    {
     "data": {
      "text/plain": [
       "(                        date        open        high         low       close  \\\n",
       " 0  2024-08-16 00:00:00-04:00  222.882700  225.779224  222.613947  225.002838   \n",
       " 1  2024-08-19 00:00:00-04:00  224.674371  224.943125  222.006778  224.843582   \n",
       " 2  2024-08-20 00:00:00-04:00  224.724146  226.117655  224.405621  225.460709   \n",
       " 3  2024-08-21 00:00:00-04:00  225.470651  226.923879  224.007459  225.351196   \n",
       " 4  2024-08-22 00:00:00-04:00  226.734776  227.282232  222.862797  223.489883   \n",
       " \n",
       "      volume  Dividends  Stock Splits    ret_1d  ret_1d_z  \n",
       " 0  44340200        0.0           0.0       NaN       NaN  \n",
       " 1  40687800        0.0           0.0 -0.070780 -0.050741  \n",
       " 2  30299000        0.0           0.0  0.274469  0.120104  \n",
       " 3  34765500        0.0           0.0 -0.048573 -0.039752  \n",
       " 4  43695300        0.0           0.0 -0.825961 -0.424439  ,\n",
       " (250, 10),\n",
       " date            0\n",
       " open            0\n",
       " high            0\n",
       " low             0\n",
       " close           0\n",
       " volume          0\n",
       " Dividends       0\n",
       " Stock Splits    0\n",
       " ret_1d          1\n",
       " ret_1d_z        1\n",
       " dtype: int64)"
      ]
     },
     "execution_count": 10,
     "metadata": {},
     "output_type": "execute_result"
    }
   ],
   "source": [
    "from datetime import datetime\n",
    "\n",
    "# 1) normalize schema & dtypes\n",
    "df1 = sort_and_cast_ohlcv(df)\n",
    "\n",
    "# # 2) forward-fill small gaps (OHLCV only)\n",
    "df2 = ffill_ohlcv_by_date(df1)\n",
    "\n",
    "# # 3) returns & z-scores\n",
    "df3 = add_returns(df2, price_col=\"close\", ret_col=\"ret_1d\", ret_z_col=\"ret_1d_z\")\n",
    "\n",
    "# # # 4) winsorize extreme outliers (e.g. z=5)\n",
    "df4 = winsorize_zscores(df3, columns=[\"ret_1d\"], z=5.0)\n",
    "\n",
    "df4.head(), df4.shape, df4.isna().sum()"
   ]
  },
  {
   "cell_type": "code",
   "execution_count": 11,
   "id": "abc8f287",
   "metadata": {},
   "outputs": [
    {
     "data": {
      "text/plain": [
       "PosixPath('/Users/brian/bootcamp_Brian_Chang/project/data/processed/prices_preprocessed_20250820-120204.csv')"
      ]
     },
     "execution_count": 11,
     "metadata": {},
     "output_type": "execute_result"
    }
   ],
   "source": [
    "from datetime import datetime\n",
    "def ts(): return datetime.now().strftime(\"%Y%m%d-%H%M%S\")\n",
    "\n",
    "clean_path = PROC / f\"prices_preprocessed_{ts()}.csv\"\n",
    "df4.to_csv(clean_path, index=False)\n",
    "clean_path\n"
   ]
  },
  {
   "cell_type": "code",
   "execution_count": 12,
   "id": "8e8d9dc3",
   "metadata": {},
   "outputs": [
    {
     "data": {
      "text/plain": [
       "{'orig_shape': (250, 8),\n",
       " 'clean_shape': (250, 10),\n",
       " 'orig_na_counts': {'date': 0,\n",
       "  'open': 0,\n",
       "  'high': 0,\n",
       "  'low': 0,\n",
       "  'close': 0,\n",
       "  'volume': 0,\n",
       "  'Dividends': 0,\n",
       "  'Stock Splits': 0},\n",
       " 'clean_na_counts': {'date': 0,\n",
       "  'open': 0,\n",
       "  'high': 0,\n",
       "  'low': 0,\n",
       "  'close': 0,\n",
       "  'volume': 0,\n",
       "  'Dividends': 0,\n",
       "  'Stock Splits': 0,\n",
       "  'ret_1d': 1,\n",
       "  'ret_1d_z': 1},\n",
       " 'dtypes_after': {'date': 'object',\n",
       "  'open': 'float64',\n",
       "  'high': 'float64',\n",
       "  'low': 'float64',\n",
       "  'close': 'float64',\n",
       "  'volume': 'Int64',\n",
       "  'Dividends': 'float64',\n",
       "  'Stock Splits': 'float64',\n",
       "  'ret_1d': 'float64',\n",
       "  'ret_1d_z': 'float64'},\n",
       " 'date_span': ('2024-08-16 00:00:00-04:00', '2025-08-15 00:00:00-04:00')}"
      ]
     },
     "execution_count": 12,
     "metadata": {},
     "output_type": "execute_result"
    }
   ],
   "source": [
    "summary = {\n",
    "    \"orig_shape\": tuple(df.shape),\n",
    "    \"clean_shape\": tuple(df4.shape),\n",
    "    \"orig_na_counts\": df.isna().sum().to_dict(),\n",
    "    \"clean_na_counts\": df4.isna().sum().to_dict(),\n",
    "    \"dtypes_after\": df4.dtypes.astype(str).to_dict(),\n",
    "    \"date_span\": (str(df4[\"date\"].min()), str(df4[\"date\"].max())) if \"date\" in df4 else None,\n",
    "}\n",
    "summary\n"
   ]
  }
 ],
 "metadata": {
  "kernelspec": {
   "display_name": "earnings-sentiment",
   "language": "python",
   "name": "python3"
  },
  "language_info": {
   "codemirror_mode": {
    "name": "ipython",
    "version": 3
   },
   "file_extension": ".py",
   "mimetype": "text/x-python",
   "name": "python",
   "nbconvert_exporter": "python",
   "pygments_lexer": "ipython3",
   "version": "3.11.13"
  }
 },
 "nbformat": 4,
 "nbformat_minor": 5
}
