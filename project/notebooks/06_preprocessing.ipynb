{
 "cells": [
  {
   "cell_type": "code",
   "execution_count": 1,
   "id": "e53f94d1",
   "metadata": {},
   "outputs": [
    {
     "data": {
      "text/plain": [
       "(PosixPath('/Users/brian/bootcamp_Brian_Chang/project/data/raw'),\n",
       " PosixPath('/Users/brian/bootcamp_Brian_Chang/project/data/processed'))"
      ]
     },
     "execution_count": 1,
     "metadata": {},
     "output_type": "execute_result"
    }
   ],
   "source": [
    "from pathlib import Path\n",
    "import sys, os\n",
    "import pandas as pd\n",
    "\n",
    "PROJECT_ROOT = Path(\"..\").resolve()\n",
    "sys.path.append(str(PROJECT_ROOT / \"src\"))  # so we can `from cleaning import ...`\n",
    "\n",
    "from cleaning import (\n",
    "    sort_and_cast_ohlcv,\n",
    "    ffill_ohlcv_by_date,\n",
    "    add_returns,\n",
    "    fill_missing_median,\n",
    "    drop_missing,\n",
    "    normalize_data,\n",
    "    clip_extreme_zscores,\n",
    ")\n",
    "\n",
    "RAW  = PROJECT_ROOT / \"data\" / \"raw\"\n",
    "PROC = PROJECT_ROOT / \"data\" / \"processed\"\n",
    "PROC.mkdir(parents=True, exist_ok=True)\n",
    "\n",
    "RAW, PROC\n"
   ]
  },
  {
   "cell_type": "code",
   "execution_count": 2,
   "id": "4bed0cb7",
   "metadata": {},
   "outputs": [
    {
     "data": {
      "text/plain": [
       "PosixPath('/Users/brian/bootcamp_Brian_Chang/project/data/raw/api_yfinance_AAPL_20250817-2321.csv')"
      ]
     },
     "execution_count": 2,
     "metadata": {},
     "output_type": "execute_result"
    }
   ],
   "source": [
    "def latest(pattern: str) -> Path | None:\n",
    "    files = sorted(RAW.glob(pattern))\n",
    "    return files[-1] if files else None\n",
    "\n",
    "raw_prices = latest(\"api_yfinance_*.csv\")\n",
    "raw_prices\n"
   ]
  },
  {
   "cell_type": "code",
   "execution_count": 3,
   "id": "8f1a8e95",
   "metadata": {},
   "outputs": [
    {
     "data": {
      "text/plain": [
       "(                        date        open        high         low       close  \\\n",
       " 0  2024-08-16 00:00:00-04:00  222.882700  225.779224  222.613947  225.002838   \n",
       " 1  2024-08-19 00:00:00-04:00  224.674371  224.943125  222.006778  224.843582   \n",
       " 2  2024-08-20 00:00:00-04:00  224.724146  226.117655  224.405621  225.460709   \n",
       " 3  2024-08-21 00:00:00-04:00  225.470651  226.923879  224.007459  225.351196   \n",
       " 4  2024-08-22 00:00:00-04:00  226.734776  227.282232  222.862797  223.489883   \n",
       " \n",
       "      volume  Dividends  Stock Splits  \n",
       " 0  44340200        0.0           0.0  \n",
       " 1  40687800        0.0           0.0  \n",
       " 2  30299000        0.0           0.0  \n",
       " 3  34765500        0.0           0.0  \n",
       " 4  43695300        0.0           0.0  ,\n",
       " (250, 8),\n",
       " date            0\n",
       " open            0\n",
       " high            0\n",
       " low             0\n",
       " close           0\n",
       " volume          0\n",
       " Dividends       0\n",
       " Stock Splits    0\n",
       " dtype: int64)"
      ]
     },
     "execution_count": 3,
     "metadata": {},
     "output_type": "execute_result"
    }
   ],
   "source": [
    "df = pd.read_csv(raw_prices)\n",
    "df.head(), df.shape, df.isna().sum()\n"
   ]
  },
  {
   "cell_type": "code",
   "execution_count": 4,
   "id": "d7b63781",
   "metadata": {},
   "outputs": [
    {
     "name": "stderr",
     "output_type": "stream",
     "text": [
      "/Users/brian/bootcamp_Brian_Chang/project/src/cleaning.py:89: FutureWarning: In a future version of pandas, parsing datetimes with mixed time zones will raise an error unless `utc=True`. Please specify `utc=True` to opt in to the new behaviour and silence this warning. To create a `Series` with mixed offsets and `object` dtype, please use `apply` and `datetime.datetime.strptime`\n",
      "  out[\"date\"] = pd.to_datetime(out[\"date\"], errors=\"coerce\")\n"
     ]
    },
    {
     "data": {
      "text/plain": [
       "(                       date        open        high         low       close  \\\n",
       " 0 2024-08-16 00:00:00-04:00  222.882700  225.779224  222.613947  225.002838   \n",
       " 1 2024-08-19 00:00:00-04:00  224.674371  224.943125  222.006778  224.843582   \n",
       " 2 2024-08-20 00:00:00-04:00  224.724146  226.117655  224.405621  225.460709   \n",
       " 3 2024-08-21 00:00:00-04:00  225.470651  226.923879  224.007459  225.351196   \n",
       " 4 2024-08-22 00:00:00-04:00  226.734776  227.282232  222.862797  223.489883   \n",
       " \n",
       "      volume  Dividends  Stock Splits    ret_1d  \n",
       " 0  44340200        0.0           0.0       NaN  \n",
       " 1  40687800        0.0           0.0 -0.056532  \n",
       " 2  30299000        0.0           0.0  0.114122  \n",
       " 3  34765500        0.0           0.0 -0.045556  \n",
       " 4  43695300        0.0           0.0 -0.429814  ,\n",
       " date            84\n",
       " open             0\n",
       " high             0\n",
       " low              0\n",
       " close            0\n",
       " volume           0\n",
       " Dividends        0\n",
       " Stock Splits     0\n",
       " ret_1d           1\n",
       " dtype: int64)"
      ]
     },
     "execution_count": 4,
     "metadata": {},
     "output_type": "execute_result"
    }
   ],
   "source": [
    "# 1) normalize schema & sort\n",
    "df1 = sort_and_cast_ohlcv(df)\n",
    "\n",
    "# 2) forward-fill tiny gaps in OHLCV (safe for occasional NaNs)\n",
    "df2 = ffill_ohlcv_by_date(df1)\n",
    "\n",
    "# 3) compute 1-day return from close\n",
    "df3 = add_returns(df2, price_col=\"close\", out_col=\"ret_1d\")\n",
    "\n",
    "# 4) optional: drop rows with too many NaNs (should be rare after ffill)\n",
    "df4 = drop_missing(df3, threshold=0.6, axis=\"rows\")\n",
    "\n",
    "# 5) optional: clip extreme z-scores on returns to dampen huge outliers\n",
    "df5 = clip_extreme_zscores(df4, columns=[\"ret_1d\"], z=5.0)\n",
    "\n",
    "df5.head(), df5.isna().sum()\n"
   ]
  },
  {
   "cell_type": "code",
   "execution_count": 6,
   "id": "abc8f287",
   "metadata": {},
   "outputs": [
    {
     "data": {
      "text/plain": [
       "PosixPath('/Users/brian/bootcamp_Brian_Chang/project/data/processed/prices_preprocessed_20250819-223535.csv')"
      ]
     },
     "execution_count": 6,
     "metadata": {},
     "output_type": "execute_result"
    }
   ],
   "source": [
    "from datetime import datetime\n",
    "def ts(): return datetime.now().strftime(\"%Y%m%d-%H%M%S\")\n",
    "\n",
    "clean_path = PROC / f\"prices_preprocessed_{ts()}.csv\"\n",
    "df5.to_csv(clean_path, index=False)\n",
    "clean_path\n"
   ]
  },
  {
   "cell_type": "code",
   "execution_count": 7,
   "id": "8e8d9dc3",
   "metadata": {},
   "outputs": [
    {
     "data": {
      "text/plain": [
       "{'orig_shape': (250, 8),\n",
       " 'clean_shape': (250, 9),\n",
       " 'orig_na_counts': {'date': 0,\n",
       "  'open': 0,\n",
       "  'high': 0,\n",
       "  'low': 0,\n",
       "  'close': 0,\n",
       "  'volume': 0,\n",
       "  'Dividends': 0,\n",
       "  'Stock Splits': 0},\n",
       " 'clean_na_counts': {'date': 84,\n",
       "  'open': 0,\n",
       "  'high': 0,\n",
       "  'low': 0,\n",
       "  'close': 0,\n",
       "  'volume': 0,\n",
       "  'Dividends': 0,\n",
       "  'Stock Splits': 0,\n",
       "  'ret_1d': 1},\n",
       " 'dtypes_after': {'date': 'datetime64[ns, UTC-04:00]',\n",
       "  'open': 'float64',\n",
       "  'high': 'float64',\n",
       "  'low': 'float64',\n",
       "  'close': 'float64',\n",
       "  'volume': 'Int64',\n",
       "  'Dividends': 'float64',\n",
       "  'Stock Splits': 'float64',\n",
       "  'ret_1d': 'float64'},\n",
       " 'date_span': ('2024-08-16 00:00:00-04:00', '2025-08-15 00:00:00-04:00')}"
      ]
     },
     "execution_count": 7,
     "metadata": {},
     "output_type": "execute_result"
    }
   ],
   "source": [
    "summary = {\n",
    "    \"orig_shape\": tuple(df.shape),\n",
    "    \"clean_shape\": tuple(df5.shape),\n",
    "    \"orig_na_counts\": df.isna().sum().to_dict(),\n",
    "    \"clean_na_counts\": df5.isna().sum().to_dict(),\n",
    "    \"dtypes_after\": df5.dtypes.astype(str).to_dict(),\n",
    "    \"date_span\": (str(df5[\"date\"].min()), str(df5[\"date\"].max())) if \"date\" in df5 else None,\n",
    "}\n",
    "summary\n"
   ]
  }
 ],
 "metadata": {
  "kernelspec": {
   "display_name": "earnings-sentiment",
   "language": "python",
   "name": "python3"
  },
  "language_info": {
   "codemirror_mode": {
    "name": "ipython",
    "version": 3
   },
   "file_extension": ".py",
   "mimetype": "text/x-python",
   "name": "python",
   "nbconvert_exporter": "python",
   "pygments_lexer": "ipython3",
   "version": "3.11.13"
  }
 },
 "nbformat": 4,
 "nbformat_minor": 5
}
