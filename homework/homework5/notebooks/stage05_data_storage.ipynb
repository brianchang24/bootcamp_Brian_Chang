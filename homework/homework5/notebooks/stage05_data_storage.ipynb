{
 "cells": [
  {
   "cell_type": "code",
   "execution_count": null,
   "id": "83e66cdd",
   "metadata": {},
   "outputs": [
    {
     "name": "stdout",
     "output_type": "stream",
     "text": [
      "RAW_DIR: /Users/brian/bootcamp_Brian_Chang/homework/homework5/data/raw\n",
      "PROC_DIR: /Users/brian/bootcamp_Brian_Chang/homework/homework5/data/processed\n"
     ]
    }
   ],
   "source": [
    "from pathlib import Path\n",
    "import os, datetime as dt\n",
    "import pandas as pd\n",
    "import numpy as np\n",
    "from dotenv import load_dotenv\n",
    "\n",
    "load_dotenv(dotenv_path=Path(\"..\") / \".env\")\n",
    "\n",
    "RAW_DIR  = Path(os.getenv(\"DATA_DIR_RAW\", \"../data/raw\"))\n",
    "PROC_DIR = Path(os.getenv(\"DATA_DIR_PROCESSED\", \"../data/processed\"))\n",
    "\n",
    "RAW_DIR.mkdir(parents=True, exist_ok=True)\n",
    "PROC_DIR.mkdir(parents=True, exist_ok=True)\n",
    "\n",
    "def ts(): return dt.datetime.now().strftime(\"%Y%m%d-%H%M%S\")\n",
    "\n",
    "print(\"RAW_DIR:\", RAW_DIR.resolve())\n",
    "print(\"PROC_DIR:\", PROC_DIR.resolve())\n"
   ]
  },
  {
   "cell_type": "code",
   "execution_count": null,
   "id": "6ea17cc4",
   "metadata": {},
   "outputs": [
    {
     "name": "stdout",
     "output_type": "stream",
     "text": [
      "<class 'pandas.core.frame.DataFrame'>\n",
      "RangeIndex: 10 entries, 0 to 9\n",
      "Data columns (total 3 columns):\n",
      " #   Column  Non-Null Count  Dtype         \n",
      "---  ------  --------------  -----         \n",
      " 0   date    10 non-null     datetime64[ns]\n",
      " 1   ticker  10 non-null     object        \n",
      " 2   price   10 non-null     float64       \n",
      "dtypes: datetime64[ns](1), float64(1), object(1)\n",
      "memory usage: 372.0+ bytes\n",
      "Saved CSV → ../data/raw/sample_20250818-182252.csv\n",
      "Saved Parquet → ../data/processed/sample_20250818-182252.parquet\n"
     ]
    }
   ],
   "source": [
    "# sample data\n",
    "dates = pd.date_range(\"2024-01-01\", periods=10, freq=\"D\")\n",
    "df = pd.DataFrame({\"date\": dates, \"ticker\": [\"AAPL\"]*10, \"price\": 150 + np.random.randn(10).cumsum()})\n",
    "df.info()\n",
    "\n",
    "csv_path = RAW_DIR / f\"sample_{ts()}.csv\"\n",
    "df.to_csv(csv_path, index=False)\n",
    "print(\"Saved CSV →\", csv_path)\n",
    "\n",
    "parq_path = PROC_DIR / f\"sample_{ts()}.parquet\"\n",
    "try:\n",
    "    df.to_parquet(parq_path)\n",
    "    print(\"Saved Parquet →\", parq_path)\n",
    "except Exception as e:\n",
    "    print(\"Parquet save failed (engine missing?).\", e)\n"
   ]
  },
  {
   "cell_type": "code",
   "execution_count": 3,
   "id": "9e67a99f",
   "metadata": {},
   "outputs": [
    {
     "name": "stdout",
     "output_type": "stream",
     "text": [
      "CSV validation: {'shape_equal': True, 'cols_present': True, 'price_is_numeric': True, 'date_is_datetime': True}\n",
      "Parquet validation: {'shape_equal': True, 'cols_present': True, 'price_is_numeric': True, 'date_is_datetime': True}\n"
     ]
    }
   ],
   "source": [
    "def validate_loaded(original: pd.DataFrame, reloaded: pd.DataFrame, cols=(\"date\",\"ticker\",\"price\")):\n",
    "    checks = {\n",
    "        \"shape_equal\": original.shape == reloaded.shape,\n",
    "        \"cols_present\": all(c in reloaded.columns for c in cols),\n",
    "    }\n",
    "    if \"price\" in reloaded: checks[\"price_is_numeric\"] = pd.api.types.is_numeric_dtype(reloaded[\"price\"])\n",
    "    if \"date\" in reloaded:  checks[\"date_is_datetime\"] = pd.api.types.is_datetime64_any_dtype(reloaded[\"date\"])\n",
    "    return checks\n",
    "\n",
    "df_csv = pd.read_csv(csv_path, parse_dates=[\"date\"])\n",
    "print(\"CSV validation:\", validate_loaded(df, df_csv))\n",
    "\n",
    "if parq_path.exists():\n",
    "    try:\n",
    "        df_parq = pd.read_parquet(parq_path)\n",
    "        print(\"Parquet validation:\", validate_loaded(df, df_parq))\n",
    "    except Exception as e:\n",
    "        print(\"Parquet read failed:\", e)\n"
   ]
  },
  {
   "cell_type": "code",
   "execution_count": 4,
   "id": "982f3136",
   "metadata": {},
   "outputs": [
    {
     "name": "stdout",
     "output_type": "stream",
     "text": [
      "Reload CSV via util: (10, 3)\n",
      "Reload Parquet via util: (10, 3)\n"
     ]
    }
   ],
   "source": [
    "from typing import Union\n",
    "\n",
    "def ensure_dir(path: Path):\n",
    "    path.parent.mkdir(parents=True, exist_ok=True)\n",
    "\n",
    "def detect_format(path: Union[str, Path]):\n",
    "    s = str(path).lower()\n",
    "    if s.endswith(\".csv\"): return \"csv\"\n",
    "    if s.endswith(\".parquet\") or s.endswith(\".pq\") or s.endswith(\".parq\"): return \"parquet\"\n",
    "    raise ValueError(f\"Unsupported format: {path}\")\n",
    "\n",
    "def write_df(df: pd.DataFrame, path: Union[str, Path]) -> Path:\n",
    "    path = Path(path)\n",
    "    ensure_dir(path)\n",
    "    fmt = detect_format(path)\n",
    "    if fmt == \"csv\":\n",
    "        df.to_csv(path, index=False)\n",
    "    else:  # parquet\n",
    "        try:\n",
    "            df.to_parquet(path)\n",
    "        except Exception as e:\n",
    "            raise RuntimeError(\"Parquet engine not available. Install 'pyarrow' or 'fastparquet'.\") from e\n",
    "    return path\n",
    "\n",
    "def read_df(path: Union[str, Path]) -> pd.DataFrame:\n",
    "    path = Path(path)\n",
    "    fmt = detect_format(path)\n",
    "    if fmt == \"csv\":\n",
    "        # parse 'date' if present\n",
    "        cols = pd.read_csv(path, nrows=0).columns\n",
    "        parse = [\"date\"] if \"date\" in cols else None\n",
    "        return pd.read_csv(path, parse_dates=parse)\n",
    "    else:\n",
    "        try:\n",
    "            return pd.read_parquet(path)\n",
    "        except Exception as e:\n",
    "            raise RuntimeError(\"Parquet engine not available. Install 'pyarrow' or 'fastparquet'.\") from e\n",
    "\n",
    "# demo\n",
    "csv2 = RAW_DIR / f\"sample_util_{ts()}.csv\"\n",
    "pq2  = PROC_DIR / f\"sample_util_{ts()}.parquet\"\n",
    "\n",
    "write_df(df, csv2)\n",
    "print(\"Reload CSV via util:\", read_df(csv2).shape)\n",
    "\n",
    "try:\n",
    "    write_df(df, pq2)\n",
    "    print(\"Reload Parquet via util:\", read_df(pq2).shape)\n",
    "except RuntimeError as e:\n",
    "    print(\"Parquet util demo skipped:\", e)\n"
   ]
  }
 ],
 "metadata": {
  "kernelspec": {
   "display_name": "fe-course",
   "language": "python",
   "name": "python3"
  },
  "language_info": {
   "codemirror_mode": {
    "name": "ipython",
    "version": 3
   },
   "file_extension": ".py",
   "mimetype": "text/x-python",
   "name": "python",
   "nbconvert_exporter": "python",
   "pygments_lexer": "ipython3",
   "version": "3.11.13"
  }
 },
 "nbformat": 4,
 "nbformat_minor": 5
}
