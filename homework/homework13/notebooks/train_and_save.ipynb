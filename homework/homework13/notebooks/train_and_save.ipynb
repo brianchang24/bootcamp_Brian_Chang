{
 "cells": [
  {
   "cell_type": "code",
   "execution_count": 3,
   "id": "a06b37fa",
   "metadata": {},
   "outputs": [
    {
     "name": "stdout",
     "output_type": "stream",
     "text": [
      "Saved: ../model/model.pkl\n",
      "Smoke test proba: [0.28148647]\n"
     ]
    },
    {
     "name": "stderr",
     "output_type": "stream",
     "text": [
      "/opt/miniconda3/envs/fe-course/lib/python3.11/site-packages/sklearn/utils/validation.py:2749: UserWarning: X does not have valid feature names, but StandardScaler was fitted with feature names\n",
      "  warnings.warn(\n"
     ]
    }
   ],
   "source": [
    "# Train & Save a simple pipeline to model/model.pkl\n",
    "import pandas as pd\n",
    "from pathlib import Path\n",
    "from sklearn.pipeline import Pipeline\n",
    "from sklearn.preprocessing import StandardScaler\n",
    "from sklearn.linear_model import LogisticRegression\n",
    "import joblib\n",
    "import numpy as np\n",
    "\n",
    "PROC = Path(\"../data/processed\")\n",
    "MODEL_DIR = Path(\"../model\"); MODEL_DIR.mkdir(exist_ok=True)\n",
    "\n",
    "# 1) Load your latest model-ready features (update pattern if yours differs)\n",
    "cands = sorted(PROC.glob(\"prices_with_tech_features_model*.csv\"),\n",
    "               key=lambda p: p.stat().st_mtime, reverse=True)\n",
    "assert cands, \"No model-ready features found under data/processed/. Expected files like prices_with_tech_features_model*.csv\"\n",
    "df = pd.read_csv(cands[0], parse_dates=[\"date\"]).sort_values(\"date\").reset_index(drop=True)\n",
    "\n",
    "# 2) Define features + target\n",
    "FEAT = [\"gap_pct\",\"daily_range_pct\",\"ma_ratio_5_20\",\"ret_vol_10\",\"volume_z20\",\"rsi_14\",\"macd\",\"macd_signal\"]\n",
    "df[\"y_up\"] = (df[\"ret_1d\"].shift(-1) > 0).astype(int)   # next-day direction\n",
    "\n",
    "dfm = df.dropna(subset=FEAT + [\"y_up\"]).copy()\n",
    "cut = int(len(dfm)*0.8)\n",
    "train = dfm.iloc[:cut]\n",
    "X_tr, y_tr = train[FEAT], train[\"y_up\"]\n",
    "\n",
    "# 3) Fit a simple pipeline\n",
    "pipe = Pipeline([\n",
    "    (\"scaler\", StandardScaler()),\n",
    "    (\"clf\", LogisticRegression(max_iter=2000))\n",
    "])\n",
    "pipe.fit(X_tr, y_tr)\n",
    "\n",
    "# 4) Save bundle\n",
    "bundle = {\"pipeline\": pipe, \"features\": FEAT, \"threshold\": 0.44,\n",
    "          \"trained_on\": cands[0].name, \"version\": \"1.0.0\"}\n",
    "joblib.dump(bundle, MODEL_DIR / \"model.pkl\")\n",
    "print(\"Saved:\", MODEL_DIR / \"model.pkl\")\n",
    "\n",
    "# 5) Quick reload smoke test\n",
    "b2 = joblib.load(MODEL_DIR / \"model.pkl\")\n",
    "x0 = np.zeros((1, len(b2[\"features\"])))\n",
    "print(\"Smoke test proba:\", b2[\"pipeline\"].predict_proba(x0)[:,1])\n"
   ]
  },
  {
   "cell_type": "code",
   "execution_count": null,
   "id": "d848cfdb",
   "metadata": {},
   "outputs": [],
   "source": []
  }
 ],
 "metadata": {
  "kernelspec": {
   "display_name": "fe-course",
   "language": "python",
   "name": "python3"
  },
  "language_info": {
   "codemirror_mode": {
    "name": "ipython",
    "version": 3
   },
   "file_extension": ".py",
   "mimetype": "text/x-python",
   "name": "python",
   "nbconvert_exporter": "python",
   "pygments_lexer": "ipython3",
   "version": "3.11.13"
  }
 },
 "nbformat": 4,
 "nbformat_minor": 5
}
