{
 "cells": [
  {
   "cell_type": "code",
   "execution_count": 7,
   "id": "84f5db32",
   "metadata": {},
   "outputs": [
    {
     "name": "stdout",
     "output_type": "stream",
     "text": [
      "health: {'features': ['gap_pct', 'daily_range_pct', 'ma_ratio_5_20', 'ret_vol_10', 'volume_z20', 'rsi_14', 'macd', 'macd_signal'], 'model': 'loaded', 'status': 'ok'}\n",
      "POST /predict: {'p_up': 0.004173755065028392, 'prediction': 0, 'threshold': 0.44}\n",
      "GET /predict/2.0: {'prediction': 4.0}\n",
      "GET /predict/1.0/3.0: {'prediction': 4.0}\n",
      "plot HTML length: 36863\n"
     ]
    }
   ],
   "source": [
    "import requests\n",
    "base = \"http://127.0.0.1:5000\"\n",
    "\n",
    "print(\"health:\", requests.get(base+\"/health\").json())\n",
    "\n",
    "\n",
    "payload = {\n",
    "    \"features\": {\n",
    "        \"gap_pct\": 0.01,\n",
    "        \"daily_range_pct\": 0.02,\n",
    "        \"ma_ratio_5_20\": 1.01,\n",
    "        \"ret_vol_10\": 0.015,\n",
    "        \"volume_z20\": -0.2,\n",
    "        \"rsi_14\": 48.0,\n",
    "        \"macd\": 0.03,\n",
    "        \"macd_signal\": 0.01\n",
    "    }\n",
    "}\n",
    "print(\"POST /predict:\", requests.post(base+\"/predict\", json=payload).json())\n",
    "print(\"GET /predict/2.0:\", requests.get(base+\"/predict/2.0\").json())\n",
    "print(\"GET /predict/1.0/3.0:\", requests.get(base+\"/predict/1.0/3.0\").json())\n",
    "\n",
    "html = requests.get(base+\"/plot\").text\n",
    "print(\"plot HTML length:\", len(html))\n"
   ]
  }
 ],
 "metadata": {
  "kernelspec": {
   "display_name": "fe-course",
   "language": "python",
   "name": "python3"
  },
  "language_info": {
   "codemirror_mode": {
    "name": "ipython",
    "version": 3
   },
   "file_extension": ".py",
   "mimetype": "text/x-python",
   "name": "python",
   "nbconvert_exporter": "python",
   "pygments_lexer": "ipython3",
   "version": "3.11.13"
  }
 },
 "nbformat": 4,
 "nbformat_minor": 5
}
