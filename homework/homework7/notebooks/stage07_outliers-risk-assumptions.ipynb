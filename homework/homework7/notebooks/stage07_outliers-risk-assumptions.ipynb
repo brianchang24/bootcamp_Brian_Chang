{
 "cells": [
  {
   "cell_type": "code",
   "execution_count": 14,
   "id": "d46ce36f",
   "metadata": {},
   "outputs": [],
   "source": [
    "# Setup\n",
    "import numpy as np\n",
    "import pandas as pd\n",
    "import matplotlib.pyplot as plt\n",
    "from pathlib import Path\n",
    "from sklearn.linear_model import LinearRegression\n",
    "from sklearn.metrics import mean_absolute_error, r2_score\n",
    "np.random.seed(17)"
   ]
  },
  {
   "cell_type": "code",
   "execution_count": 15,
   "id": "feed3203",
   "metadata": {},
   "outputs": [
    {
     "data": {
      "text/html": [
       "<div>\n",
       "<style scoped>\n",
       "    .dataframe tbody tr th:only-of-type {\n",
       "        vertical-align: middle;\n",
       "    }\n",
       "\n",
       "    .dataframe tbody tr th {\n",
       "        vertical-align: top;\n",
       "    }\n",
       "\n",
       "    .dataframe thead th {\n",
       "        text-align: right;\n",
       "    }\n",
       "</style>\n",
       "<table border=\"1\" class=\"dataframe\">\n",
       "  <thead>\n",
       "    <tr style=\"text-align: right;\">\n",
       "      <th></th>\n",
       "      <th>x</th>\n",
       "      <th>y</th>\n",
       "    </tr>\n",
       "  </thead>\n",
       "  <tbody>\n",
       "    <tr>\n",
       "      <th>0</th>\n",
       "      <td>0.000000</td>\n",
       "      <td>1.331519</td>\n",
       "    </tr>\n",
       "    <tr>\n",
       "      <th>1</th>\n",
       "      <td>0.050251</td>\n",
       "      <td>-1.115001</td>\n",
       "    </tr>\n",
       "    <tr>\n",
       "      <th>2</th>\n",
       "      <td>0.100503</td>\n",
       "      <td>1.969787</td>\n",
       "    </tr>\n",
       "    <tr>\n",
       "      <th>3</th>\n",
       "      <td>0.150754</td>\n",
       "      <td>2.706032</td>\n",
       "    </tr>\n",
       "    <tr>\n",
       "      <th>4</th>\n",
       "      <td>0.201005</td>\n",
       "      <td>2.686840</td>\n",
       "    </tr>\n",
       "  </tbody>\n",
       "</table>\n",
       "</div>"
      ],
      "text/plain": [
       "          x         y\n",
       "0  0.000000  1.331519\n",
       "1  0.050251 -1.115001\n",
       "2  0.100503  1.969787\n",
       "3  0.150754  2.706032\n",
       "4  0.201005  2.686840"
      ]
     },
     "execution_count": 15,
     "metadata": {},
     "output_type": "execute_result"
    }
   ],
   "source": [
    "data_path = Path('data/raw/outliers_homework.csv')\n",
    "if data_path.exists():\n",
    "    df = pd.read_csv(data_path)\n",
    "else:\n",
    "    # Synthetic fallback: linear trend with noise and a few extremes\n",
    "    x = np.linspace(0, 10, 200)\n",
    "    y = 2.2 * x + 1 + np.random.normal(0, 1.2, size=x.size)\n",
    "    y[10] += 15; y[120] -= 13; y[160] += 18\n",
    "    df = pd.DataFrame({'x': x, 'y': y})\n",
    "df.head()"
   ]
  },
  {
   "cell_type": "code",
   "execution_count": 16,
   "id": "08792e2b",
   "metadata": {},
   "outputs": [],
   "source": [
    "def detect_outliers_iqr(series: pd.Series, k: float = 1.5) -> pd.Series:\n",
    "    \"\"\"Return boolean mask for IQR-based outliers.\n",
    "    IQR = Q3 - Q1; outlier if x < Q1 - k*IQR or x > Q3 + k*IQR.\n",
    "    Assumptions: distribution summarized by quartiles; k controls strictness.\n",
    "    \"\"\"\n",
    "    s = pd.to_numeric(series, errors=\"coerce\")\n",
    "    q1 = s.quantile(0.25)\n",
    "    q3 = s.quantile(0.75)\n",
    "    iqr = q3 - q1\n",
    "    lower = q1 - k * iqr\n",
    "    upper = q3 + k * iqr\n",
    "    return (s < lower) | (s > upper)\n",
    "\n",
    "def detect_outliers_zscore(series: pd.Series, threshold: float = 3.0) -> pd.Series:\n",
    "    \"\"\"Return boolean mask for Z-score outliers where |z| > threshold.\n",
    "    Assumptions: roughly normal tails; sensitive to heavy tails.\n",
    "    \"\"\"\n",
    "    s = pd.to_numeric(series, errors=\"coerce\")\n",
    "    mu = s.mean(skipna=True)\n",
    "    sigma = s.std(ddof=0, skipna=True)\n",
    "    if not sigma or sigma == 0:\n",
    "        return pd.Series(False, index=s.index)  # nothing flagged if no spread\n",
    "    z = (s - mu) / sigma\n",
    "    return z.abs() > threshold\n",
    "\n",
    "def winsorize_series(series: pd.Series, lower: float = 0.05, upper: float = 0.95) -> pd.Series:\n",
    "    \"\"\"Cap values to the [lower, upper] quantiles; keeps length/index.\"\"\"\n",
    "    s = pd.to_numeric(series, errors=\"coerce\")\n",
    "    lo = s.quantile(lower)\n",
    "    hi = s.quantile(upper)\n",
    "    return s.clip(lower=lo, upper=hi)\n"
   ]
  },
  {
   "cell_type": "code",
   "execution_count": 17,
   "id": "c6684889",
   "metadata": {},
   "outputs": [
    {
     "name": "stdout",
     "output_type": "stream",
     "text": [
      "Flag rates:\n",
      "outlier_iqr    0.005\n",
      "outlier_z      0.005\n",
      "dtype: float64\n",
      "\n",
      "Overlap counts:\n",
      "outlier_z    False  True \n",
      "outlier_iqr              \n",
      "False          199      0\n",
      "True             0      1\n"
     ]
    }
   ],
   "source": [
    "target_col = 'y' if 'y' in df.columns else df.select_dtypes(include=['number']).columns[0]\n",
    "df['outlier_iqr'] = detect_outliers_iqr(df[target_col])\n",
    "df['outlier_z'] = detect_outliers_zscore(df[target_col], threshold=3.0)\n",
    "print(\"Flag rates:\")\n",
    "print(df[['outlier_iqr','outlier_z']].mean())\n",
    "\n",
    "print(\"\\nOverlap counts:\")\n",
    "print(pd.crosstab(df['outlier_iqr'], df['outlier_z']))"
   ]
  },
  {
   "cell_type": "code",
   "execution_count": 18,
   "id": "9ae6ef35",
   "metadata": {},
   "outputs": [
    {
     "data": {
      "image/png": "[encoded data removed]",
      "text/plain": [
       "<Figure size 640x480 with 1 Axes>"
      ]
     },
     "metadata": {},
     "output_type": "display_data"
    },
    {
     "data": {
      "image/png": "[encoded data removed]",
      "text/plain": [
       "<Figure size 640x480 with 1 Axes>"
      ]
     },
     "metadata": {},
     "output_type": "display_data"
    }
   ],
   "source": [
    "plt.figure()\n",
    "plt.boxplot(df[target_col])\n",
    "plt.title(f'Boxplot: {target_col}')\n",
    "plt.show()\n",
    "\n",
    "plt.figure()\n",
    "plt.hist(df[target_col], bins=50)\n",
    "plt.title(f'Histogram: {target_col}')\n",
    "plt.show()"
   ]
  },
  {
   "cell_type": "code",
   "execution_count": 19,
   "id": "a4ae4f9a",
   "metadata": {},
   "outputs": [
    {
     "name": "stderr",
     "output_type": "stream",
     "text": [
      "/var/folders/hc/lx21f3657gz88_xv7kjd578w0000gn/T/ipykernel_57699/3012357996.py:4: MatplotlibDeprecationWarning: The 'labels' parameter of boxplot() has been renamed 'tick_labels' since Matplotlib 3.9; support for the old name will be dropped in 3.11.\n",
      "  plt.boxplot([df[target_col], w], labels=[\"Original\", \"Winsorized\"])\n"
     ]
    },
    {
     "data": {
      "image/png": "[encoded data removed]",
      "text/plain": [
       "<Figure size 600x500 with 1 Axes>"
      ]
     },
     "metadata": {},
     "output_type": "display_data"
    },
    {
     "data": {
      "image/png": "[encoded data removed]",
      "text/plain": [
       "<Figure size 800x500 with 1 Axes>"
      ]
     },
     "metadata": {},
     "output_type": "display_data"
    }
   ],
   "source": [
    "w = winsorize_series(df[target_col])\n",
    "\n",
    "plt.figure(figsize=(6,5))\n",
    "plt.boxplot([df[target_col], w], labels=[\"Original\", \"Winsorized\"])\n",
    "plt.title(f\"Boxplot Comparison of {target_col}\")\n",
    "plt.show()\n",
    "\n",
    "plt.figure(figsize=(8,5))\n",
    "plt.hist(df[target_col], bins=50, alpha=0.5, label=\"Original\")\n",
    "plt.hist(w, bins=30, alpha=0.5, label=\"Winsorized\")\n",
    "plt.title(f\"Histogram of {target_col}: Original vs Winsorized\")\n",
    "plt.legend()\n",
    "plt.show()"
   ]
  },
  {
   "cell_type": "code",
   "execution_count": 20,
   "id": "0b3f24f2",
   "metadata": {},
   "outputs": [
    {
     "data": {
      "text/html": [
       "<div>\n",
       "<style scoped>\n",
       "    .dataframe tbody tr th:only-of-type {\n",
       "        vertical-align: middle;\n",
       "    }\n",
       "\n",
       "    .dataframe tbody tr th {\n",
       "        vertical-align: top;\n",
       "    }\n",
       "\n",
       "    .dataframe thead th {\n",
       "        text-align: right;\n",
       "    }\n",
       "</style>\n",
       "<table border=\"1\" class=\"dataframe\">\n",
       "  <thead>\n",
       "    <tr style=\"text-align: right;\">\n",
       "      <th></th>\n",
       "      <th>mean</th>\n",
       "      <th>median</th>\n",
       "      <th>std</th>\n",
       "    </tr>\n",
       "  </thead>\n",
       "  <tbody>\n",
       "    <tr>\n",
       "      <th>all</th>\n",
       "      <td>12.171936</td>\n",
       "      <td>12.349663</td>\n",
       "      <td>6.761378</td>\n",
       "    </tr>\n",
       "    <tr>\n",
       "      <th>filtered_iqr</th>\n",
       "      <td>12.047851</td>\n",
       "      <td>12.285113</td>\n",
       "      <td>6.546157</td>\n",
       "    </tr>\n",
       "    <tr>\n",
       "      <th>filtered_z</th>\n",
       "      <td>12.047851</td>\n",
       "      <td>12.285113</td>\n",
       "      <td>6.546157</td>\n",
       "    </tr>\n",
       "    <tr>\n",
       "      <th>winsorized</th>\n",
       "      <td>12.119643</td>\n",
       "      <td>12.349663</td>\n",
       "      <td>6.386781</td>\n",
       "    </tr>\n",
       "  </tbody>\n",
       "</table>\n",
       "</div>"
      ],
      "text/plain": [
       "                   mean     median       std\n",
       "all           12.171936  12.349663  6.761378\n",
       "filtered_iqr  12.047851  12.285113  6.546157\n",
       "filtered_z    12.047851  12.285113  6.546157\n",
       "winsorized    12.119643  12.349663  6.386781"
      ]
     },
     "execution_count": 20,
     "metadata": {},
     "output_type": "execute_result"
    }
   ],
   "source": [
    "summ_all = df[target_col].describe()[['mean', '50%', 'std']].rename({'50%':'median'})\n",
    "summ_iqr = df.loc[~df['outlier_iqr'], target_col].describe()[['mean','50%','std']].rename({'50%':'median'})\n",
    "summ_z   = df.loc[~df['outlier_z'],   target_col].describe()[['mean','50%','std']].rename({'50%':'median'})\n",
    "\n",
    "summ_w = winsorize_series(df[target_col]).describe()[['mean','50%','std']].rename({'50%':'median'})\n",
    "\n",
    "comp = pd.concat(\n",
    "    {'all': summ_all, 'filtered_iqr': summ_iqr, 'filtered_z': summ_z, 'winsorized': summ_w},\n",
    "    axis=1\n",
    ")\n",
    "comp.T\n"
   ]
  },
  {
   "cell_type": "code",
   "execution_count": 21,
   "id": "e33309aa",
   "metadata": {},
   "outputs": [
    {
     "data": {
      "text/html": [
       "<div>\n",
       "<style scoped>\n",
       "    .dataframe tbody tr th:only-of-type {\n",
       "        vertical-align: middle;\n",
       "    }\n",
       "\n",
       "    .dataframe tbody tr th {\n",
       "        vertical-align: top;\n",
       "    }\n",
       "\n",
       "    .dataframe thead th {\n",
       "        text-align: right;\n",
       "    }\n",
       "</style>\n",
       "<table border=\"1\" class=\"dataframe\">\n",
       "  <thead>\n",
       "    <tr style=\"text-align: right;\">\n",
       "      <th></th>\n",
       "      <th>slope</th>\n",
       "      <th>intercept</th>\n",
       "      <th>r2</th>\n",
       "      <th>mae</th>\n",
       "    </tr>\n",
       "  </thead>\n",
       "  <tbody>\n",
       "    <tr>\n",
       "      <th>all</th>\n",
       "      <td>2.169679</td>\n",
       "      <td>1.323542</td>\n",
       "      <td>0.871082</td>\n",
       "      <td>1.200432</td>\n",
       "    </tr>\n",
       "    <tr>\n",
       "      <th>filtered_iqr</th>\n",
       "      <td>2.136650</td>\n",
       "      <td>1.397242</td>\n",
       "      <td>0.900777</td>\n",
       "      <td>1.118809</td>\n",
       "    </tr>\n",
       "    <tr>\n",
       "      <th>filtered_z</th>\n",
       "      <td>2.136650</td>\n",
       "      <td>1.397242</td>\n",
       "      <td>0.900777</td>\n",
       "      <td>1.118809</td>\n",
       "    </tr>\n",
       "    <tr>\n",
       "      <th>winsorized</th>\n",
       "      <td>2.202179</td>\n",
       "      <td>1.161041</td>\n",
       "      <td>0.870074</td>\n",
       "      <td>1.207542</td>\n",
       "    </tr>\n",
       "  </tbody>\n",
       "</table>\n",
       "</div>"
      ],
      "text/plain": [
       "                 slope  intercept        r2       mae\n",
       "all           2.169679   1.323542  0.871082  1.200432\n",
       "filtered_iqr  2.136650   1.397242  0.900777  1.118809\n",
       "filtered_z    2.136650   1.397242  0.900777  1.118809\n",
       "winsorized    2.202179   1.161041  0.870074  1.207542"
      ]
     },
     "metadata": {},
     "output_type": "display_data"
    }
   ],
   "source": [
    "if 'x' in df.columns:\n",
    "    X_all = df[['x']].to_numpy(); y_all = df[target_col].to_numpy()\n",
    "\n",
    "    mask_iqr = ~df['outlier_iqr']\n",
    "    mask_z   = ~df['outlier_z']\n",
    "    X_iqr, y_iqr = df.loc[mask_iqr, ['x']].to_numpy(), df.loc[mask_iqr, target_col].to_numpy()\n",
    "    X_z,   y_z   = df.loc[mask_z,   ['x']].to_numpy(), df.loc[mask_z,   target_col].to_numpy()\n",
    "\n",
    "    # Winsorized predictor (keep same shape/index)\n",
    "    x_w = winsorize_series(df['x']).to_numpy().reshape(-1,1)\n",
    "\n",
    "    def fit_and_score(X, y):\n",
    "        m = LinearRegression().fit(X, y)\n",
    "        yhat = m.predict(X)\n",
    "        return {\n",
    "            'slope': float(m.coef_[0]),\n",
    "            'intercept': float(m.intercept_),\n",
    "            'r2': r2_score(y, yhat),\n",
    "            'mae': mean_absolute_error(y, yhat),\n",
    "        }\n",
    "\n",
    "    results = pd.DataFrame({\n",
    "        'all':           fit_and_score(X_all, y_all),\n",
    "        'filtered_iqr':  fit_and_score(X_iqr, y_iqr),\n",
    "        'filtered_z':    fit_and_score(X_z,   y_z),\n",
    "        'winsorized':  fit_and_score(x_w,   y_all),\n",
    "    })\n",
    "    display(results.T)\n",
    "else:\n",
    "    results = None\n",
    "    print(\"No 'x' column; skip regression or engineer features.\")\n"
   ]
  },
  {
   "cell_type": "markdown",
   "id": "b283bc86",
   "metadata": {},
   "source": [
    "## Reflection on Outlier Handling, Assumptions, and Risks\n",
    "\n",
    "### **Method Choices**\n",
    "In this assignment, I implemented three approaches to detect and mitigate outliers:\n",
    "\n",
    "1. **IQR method (k = 1.5)**  \n",
    "   Outliers flagged if below *Q1 – 1.5 × IQR* or above *Q3 + 1.5 × IQR*.  \n",
    "2. **Z-score method (threshold = 3.0)**  \n",
    "   Outliers defined where |z| > 3.  \n",
    "3. **Winsorizing (5% / 95%)**  \n",
    "   Extreme values capped at the 5th and 95th percentiles.  \n",
    "\n",
    "---\n",
    "\n",
    "### **Observed Impacts**\n",
    "\n",
    "#### *Summary Statistics*\n",
    "| Treatment         | Mean     | Median   | Std Dev  |\n",
    "|-------------------|----------|----------|----------|\n",
    "| All data          | 12.1719  | 12.3497  | 6.7614   |\n",
    "| Filtered (IQR)    | 12.0479  | 12.2851  | 6.5462   |\n",
    "| Filtered (Z)      | 12.0479  | 12.2851  | 6.5462   |\n",
    "| Winsorized (5/95) | 12.1196  | 12.3497  | 6.3868   |\n",
    "\n",
    "#### *Regression Results*\n",
    "| Treatment      | Slope   | Intercept | R²      | MAE     |\n",
    "|----------------|---------|-----------|---------|---------|\n",
    "| All data       | 2.1697  | 1.3235    | 0.8711  | 1.2004  |\n",
    "| Filtered (IQR) | 2.1367  | 1.3972    | 0.9008  | 1.1188  |\n",
    "| Filtered (Z)   | 2.1367  | 1.3972    | 0.9008  | 1.1188  |\n",
    "| Winsorized     | 2.2022  | 1.1610    | 0.8701  | 1.2075  |\n",
    "\n",
    "---\n",
    "\n",
    "### **Assumptions**\n",
    "- Dataset contains a small fraction of true outliers.  \n",
    "- IQR assumes quartiles capture spread.  \n",
    "- Z-score assumes normality.  \n",
    "- Winsorizing assumes extremes are distortions.  \n",
    "\n",
    "---\n",
    "\n",
    "### **Risks if Assumptions Are Wrong**\n",
    "- Outliers might represent real events.  \n",
    "- Z-score may over-flag heavy-tailed distributions.  \n",
    "- Winsorizing can understate risk.  \n",
    "\n",
    "---\n",
    "\n",
    "### **Takeaway**\n",
    "- Filtering improved model fit and reduced error.  \n",
    "- Winsorizing preserved rows but compressed tails.  \n",
    "- The slope (≈2.2) was stable, showing robustness.  \n"
   ]
  }
 ],
 "metadata": {
  "kernelspec": {
   "display_name": "fe-course",
   "language": "python",
   "name": "python3"
  },
  "language_info": {
   "codemirror_mode": {
    "name": "ipython",
    "version": 3
   },
   "file_extension": ".py",
   "mimetype": "text/x-python",
   "name": "python",
   "nbconvert_exporter": "python",
   "pygments_lexer": "ipython3",
   "version": "3.11.13"
  }
 },
 "nbformat": 4,
 "nbformat_minor": 5
}
