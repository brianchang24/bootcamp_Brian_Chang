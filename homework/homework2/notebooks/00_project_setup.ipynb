{
 "cells": [
  {
   "cell_type": "markdown",
   "metadata": {},
   "source": ["# Environment & Config Check"]
  },
  {
   "cell_type": "code",
   "metadata": {},
   "source": [
     "from src.config import load_env, get_key, get_data_dir\\n",
     "import numpy as np\\n",
     "\\n",
     "load_env()\\n",
     "print('API_KEY present:', get_key('API_KEY') is not None)\\n",
     "print('DATA_DIR:', get_data_dir())\\n",
     "\\n",
     "# NumPy demo\\n",
     "arr = np.array([1, 2, 3])\\n",
     "arr.sum()"
   ],
   "execution_count": null,
   "outputs": []
  }
 ],
 "metadata": {
  "kernelspec": {
   "display_name": "Python (fe-course)",
   "language": "python",
   "name": "fe-course"
  },
  "language_info": { "name": "python", "version": "3.11" }
 },
 "nbformat": 4,
 "nbformat_minor": 5
}
